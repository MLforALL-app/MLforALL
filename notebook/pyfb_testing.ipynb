{
 "cells": [
  {
   "cell_type": "markdown",
   "metadata": {},
   "source": [
    "# Firebase Testing with Python\n",
    "\n",
    "This will be the code that we host on PythonAnywhere hopefully to communicate with the Firebase servers about various things, namely fetching CSV's to be used for analysis.\n",
    "\n",
    "Please run the imports only once, there are issues with reinitializing the firebase app."
   ]
  },
  {
   "cell_type": "code",
   "execution_count": 15,
   "metadata": {},
   "outputs": [],
   "source": [
    "import firebase_admin\n",
    "from firebase_admin import credentials, firestore\n",
    "from firebase_admin import storage\n",
    "\n",
    "if not firebase_admin._apps:\n",
    "    cred = credentials.Certificate('mlforall-admin-sdk.json')\n",
    "    firebase_admin.initialize_app(cred, {\n",
    "        'storageBucket': 'mlforall-14bf7.appspot.com'\n",
    "    })\n",
    "bucket = storage.bucket()\n",
    "db = firestore.client\n",
    "\n",
    "# 'bucket' is an object defined in the google-cloud-storage Python library.\n",
    "# See https://googlecloudplatform.github.io/google-cloud-python/latest/storage/buckets.html\n",
    "# for more details."
   ]
  },
  {
   "cell_type": "markdown",
   "metadata": {},
   "source": [
    "## Reading CSV From Storage\n",
    "\n",
    "Some stats stuff that we'll need"
   ]
  },
  {
   "cell_type": "code",
   "execution_count": 2,
   "metadata": {},
   "outputs": [],
   "source": [
    "import pandas as pd\n",
    "import numpy as np\n",
    "import pickle\n",
    "from io import StringIO"
   ]
  },
  {
   "cell_type": "markdown",
   "metadata": {},
   "source": [
    "Modified from GCS Documentation, How to Download Files https://cloud.google.com/storage/docs/downloading-objects#code-samples"
   ]
  },
  {
   "cell_type": "code",
   "execution_count": 3,
   "metadata": {},
   "outputs": [],
   "source": [
    "def get_blob(bucket, source_blob_name):\n",
    "    \n",
    "    blob = bucket.blob(source_blob_name)\n",
    "    csv_bytes = blob.download_as_string()\n",
    "    s = str(csv_bytes,'utf-8')\n",
    "    data = StringIO(s) \n",
    "\n",
    "    return pd.read_csv(data)"
   ]
  },
  {
   "cell_type": "markdown",
   "metadata": {},
   "source": [
    "My Tests"
   ]
  },
  {
   "cell_type": "code",
   "execution_count": 4,
   "metadata": {},
   "outputs": [],
   "source": [
    "def make_path(uid, project_title, file_name):\n",
    "    return uid + \"/\" + project_title + \"/\" + file_name"
   ]
  },
  {
   "cell_type": "code",
   "execution_count": 5,
   "metadata": {},
   "outputs": [],
   "source": [
    "uid = \"UDjMojFqWHOdW0fCIJPMNPScQ9p1\"\n",
    "# project_title = \"Spotify\"\n",
    "# file_name = \"simple_top50.csv\"\n",
    "project_title = \"Pokemon\"\n",
    "file_name = \"Pokemon.csv\""
   ]
  },
  {
   "cell_type": "code",
   "execution_count": 6,
   "metadata": {},
   "outputs": [
    {
     "data": {
      "text/html": [
       "<div>\n",
       "<style scoped>\n",
       "    .dataframe tbody tr th:only-of-type {\n",
       "        vertical-align: middle;\n",
       "    }\n",
       "\n",
       "    .dataframe tbody tr th {\n",
       "        vertical-align: top;\n",
       "    }\n",
       "\n",
       "    .dataframe thead th {\n",
       "        text-align: right;\n",
       "    }\n",
       "</style>\n",
       "<table border=\"1\" class=\"dataframe\">\n",
       "  <thead>\n",
       "    <tr style=\"text-align: right;\">\n",
       "      <th></th>\n",
       "      <th>#</th>\n",
       "      <th>Name</th>\n",
       "      <th>Type 1</th>\n",
       "      <th>Type 2</th>\n",
       "      <th>Total</th>\n",
       "      <th>HP</th>\n",
       "      <th>Attack</th>\n",
       "      <th>Defense</th>\n",
       "      <th>Sp. Atk</th>\n",
       "      <th>Sp. Def</th>\n",
       "      <th>Speed</th>\n",
       "      <th>Generation</th>\n",
       "      <th>Legendary</th>\n",
       "    </tr>\n",
       "  </thead>\n",
       "  <tbody>\n",
       "    <tr>\n",
       "      <th>0</th>\n",
       "      <td>1</td>\n",
       "      <td>Bulbasaur</td>\n",
       "      <td>Grass</td>\n",
       "      <td>Poison</td>\n",
       "      <td>318</td>\n",
       "      <td>45</td>\n",
       "      <td>49</td>\n",
       "      <td>49</td>\n",
       "      <td>65</td>\n",
       "      <td>65</td>\n",
       "      <td>45</td>\n",
       "      <td>1</td>\n",
       "      <td>False</td>\n",
       "    </tr>\n",
       "    <tr>\n",
       "      <th>1</th>\n",
       "      <td>2</td>\n",
       "      <td>Ivysaur</td>\n",
       "      <td>Grass</td>\n",
       "      <td>Poison</td>\n",
       "      <td>405</td>\n",
       "      <td>60</td>\n",
       "      <td>62</td>\n",
       "      <td>63</td>\n",
       "      <td>80</td>\n",
       "      <td>80</td>\n",
       "      <td>60</td>\n",
       "      <td>1</td>\n",
       "      <td>False</td>\n",
       "    </tr>\n",
       "    <tr>\n",
       "      <th>2</th>\n",
       "      <td>3</td>\n",
       "      <td>Venusaur</td>\n",
       "      <td>Grass</td>\n",
       "      <td>Poison</td>\n",
       "      <td>525</td>\n",
       "      <td>80</td>\n",
       "      <td>82</td>\n",
       "      <td>83</td>\n",
       "      <td>100</td>\n",
       "      <td>100</td>\n",
       "      <td>80</td>\n",
       "      <td>1</td>\n",
       "      <td>False</td>\n",
       "    </tr>\n",
       "    <tr>\n",
       "      <th>3</th>\n",
       "      <td>3</td>\n",
       "      <td>VenusaurMega Venusaur</td>\n",
       "      <td>Grass</td>\n",
       "      <td>Poison</td>\n",
       "      <td>625</td>\n",
       "      <td>80</td>\n",
       "      <td>100</td>\n",
       "      <td>123</td>\n",
       "      <td>122</td>\n",
       "      <td>120</td>\n",
       "      <td>80</td>\n",
       "      <td>1</td>\n",
       "      <td>False</td>\n",
       "    </tr>\n",
       "    <tr>\n",
       "      <th>4</th>\n",
       "      <td>4</td>\n",
       "      <td>Charmander</td>\n",
       "      <td>Fire</td>\n",
       "      <td>NaN</td>\n",
       "      <td>309</td>\n",
       "      <td>39</td>\n",
       "      <td>52</td>\n",
       "      <td>43</td>\n",
       "      <td>60</td>\n",
       "      <td>50</td>\n",
       "      <td>65</td>\n",
       "      <td>1</td>\n",
       "      <td>False</td>\n",
       "    </tr>\n",
       "  </tbody>\n",
       "</table>\n",
       "</div>"
      ],
      "text/plain": [
       "   #                   Name Type 1  Type 2  Total  HP  Attack  Defense  \\\n",
       "0  1              Bulbasaur  Grass  Poison    318  45      49       49   \n",
       "1  2                Ivysaur  Grass  Poison    405  60      62       63   \n",
       "2  3               Venusaur  Grass  Poison    525  80      82       83   \n",
       "3  3  VenusaurMega Venusaur  Grass  Poison    625  80     100      123   \n",
       "4  4             Charmander   Fire     NaN    309  39      52       43   \n",
       "\n",
       "   Sp. Atk  Sp. Def  Speed  Generation  Legendary  \n",
       "0       65       65     45           1      False  \n",
       "1       80       80     60           1      False  \n",
       "2      100      100     80           1      False  \n",
       "3      122      120     80           1      False  \n",
       "4       60       50     65           1      False  "
      ]
     },
     "execution_count": 6,
     "metadata": {},
     "output_type": "execute_result"
    }
   ],
   "source": [
    "df = get_blob(bucket, make_path(uid, project_title, file_name))\n",
    "df.head()"
   ]
  },
  {
   "cell_type": "markdown",
   "metadata": {},
   "source": [
    "## Uploading Pickles to Storage\n",
    "\n",
    "First let's make some models"
   ]
  },
  {
   "cell_type": "code",
   "execution_count": 7,
   "metadata": {},
   "outputs": [],
   "source": [
    "from sklearn.linear_model import LogisticRegression\n",
    "from sklearn.model_selection import train_test_split\n",
    "from sklearn.preprocessing import MinMaxScaler"
   ]
  },
  {
   "cell_type": "code",
   "execution_count": 8,
   "metadata": {},
   "outputs": [],
   "source": [
    "def build_logistic_regression(X, y):\n",
    "    logreg = LogisticRegression()\n",
    "    logreg.fit(X, y)\n",
    "    return logreg\n",
    "\n",
    "def build_and_pickle(df, target_parameter, df_variables, pickle_name, debug=False):\n",
    "    target = df[target_parameter]\n",
    "    col_name_list = list(df.columns)\n",
    "    \n",
    "    for col in df_variables:\n",
    "        if col in col_name_list:\n",
    "            col_name_list.remove(col)\n",
    "            \n",
    "    df.drop(col_name_list, axis=1, inplace=True)\n",
    "    # now target contains the labels, and df contains the variables\n",
    "    X = df\n",
    "    y = target\n",
    "    X_train, X_test, y_train, y_test = train_test_split(X, y, random_state=0)\n",
    "    scaler = MinMaxScaler()\n",
    "    X_train = scaler.fit_transform(X_train)\n",
    "    X_test = scaler.transform(X_test)\n",
    "    # models\n",
    "    logreg = build_logistic_regression(X_train, y_train)\n",
    "    \n",
    "    return pickle.dumps(logreg)\n",
    "\n",
    "def update_firestore()"
   ]
  },
  {
   "cell_type": "markdown",
   "metadata": {},
   "source": [
    "Some testing info"
   ]
  },
  {
   "cell_type": "code",
   "execution_count": 9,
   "metadata": {},
   "outputs": [],
   "source": [
    "# target = 'Genre'\n",
    "# variables = ['Beats.Per.Minute', 'Energy', 'Danceability','Loudness..dB..', 'Liveness', 'Valence.', 'Length.']\n",
    "\n",
    "target = 'Type 1'\n",
    "variables = ['HP', 'Attack', 'Defense','Speed']\n",
    "\n",
    "pickle_name = \"log_reg\"\n",
    "path = make_path(uid, project_title, pickle_name)\n",
    "pickle_bytes = build_and_pickle(df, target, variables, project_title, debug=True)"
   ]
  },
  {
   "cell_type": "markdown",
   "metadata": {},
   "source": [
    "## Pickle Functions"
   ]
  },
  {
   "cell_type": "code",
   "execution_count": 10,
   "metadata": {},
   "outputs": [],
   "source": [
    "#from joblib import dump, load\n",
    "\n",
    "def p_send_blob(bucket, pickle_bytes, pickle_path):\n",
    "    \n",
    "    blob = bucket.blob(pickle_path)\n",
    "    blob.upload_from_string(pickle_bytes)\n",
    "\n",
    "def p_get_blob(bucket, pickle_path):\n",
    "        \n",
    "    blob = bucket.blob(pickle_path)\n",
    "    pickle_bytes = blob.download_as_string()\n",
    "\n",
    "    return pickle.loads(pickle_bytes)"
   ]
  },
  {
   "cell_type": "markdown",
   "metadata": {},
   "source": [
    "Send our data to the storage"
   ]
  },
  {
   "cell_type": "code",
   "execution_count": 11,
   "metadata": {},
   "outputs": [],
   "source": [
    "p_send_blob(bucket, pickle_bytes, path)"
   ]
  },
  {
   "cell_type": "markdown",
   "metadata": {},
   "source": [
    "Get the data back"
   ]
  },
  {
   "cell_type": "code",
   "execution_count": 12,
   "metadata": {},
   "outputs": [],
   "source": [
    "def floatCast(num):\n",
    "    return float(num)\n",
    "\n",
    "def load_and_predict(model, prediction_variables):\n",
    "    X_predict = [list(map(floatCast, prediction_variables))]\n",
    "    guess = model.predict(X_predict)\n",
    "    return guess[0]"
   ]
  },
  {
   "cell_type": "code",
   "execution_count": 13,
   "metadata": {},
   "outputs": [
    {
     "data": {
      "text/plain": [
       "'Psychic'"
      ]
     },
     "execution_count": 13,
     "metadata": {},
     "output_type": "execute_result"
    }
   ],
   "source": [
    "model = p_get_blob(bucket,path)\n",
    "# X_predict = [120,64,70,-5,14,54,200] # spotify\n",
    "X_predict = [40, 10, 20, 80] # pokemon\n",
    "\n",
    "load_and_predict(model, X_predict)"
   ]
  },
  {
   "cell_type": "markdown",
   "metadata": {},
   "source": [
    "# Kaggle Downloads"
   ]
  },
  {
   "cell_type": "code",
   "execution_count": 49,
   "metadata": {},
   "outputs": [
    {
     "name": "stdout",
     "output_type": "stream",
     "text": [
      "Warning: Your Kaggle API key is readable by other users on this system! To fix this, you can run 'chmod 600 /Users/lenny/.kaggle/kaggle.json'\n"
     ]
    }
   ],
   "source": [
    "from kaggle.api.kaggle_api_extended import KaggleApi\n",
    "api = KaggleApi()\n",
    "api.authenticate()"
   ]
  },
  {
   "cell_type": "markdown",
   "metadata": {},
   "source": [
    "Code taken / modified from https://github.com/Kaggle/kaggle-api/blob/master/kaggle/api/kaggle_api_extended.py and https://github.com/Kaggle/kaggle-api/blob/master/kaggle/api/kaggle_api.py and https://github.com/Kaggle/kaggle-api/blob/3ce5046d42d55b951ad301053e002930cead1cbc/kaggle/api/kaggle_api.py#L1506"
   ]
  },
  {
   "cell_type": "code",
   "execution_count": 2,
   "metadata": {},
   "outputs": [],
   "source": [
    "def getSlugs(dataset):\n",
    "    # dataset: string informat [owner]/[dataset-name]\n",
    "    if '/' in dataset:\n",
    "        dataset_urls = dataset.split('/')\n",
    "        owner_slug = dataset_urls[0]\n",
    "        dataset_slug = dataset_urls[1]\n",
    "        return owner_slug, dataset_slug\n",
    "    else:\n",
    "        return None"
   ]
  },
  {
   "cell_type": "code",
   "execution_count": 3,
   "metadata": {},
   "outputs": [],
   "source": [
    "owner, dataset = getSlugs(\"avenn98/world-of-warcraft-demographics\")\n",
    "# thread = api.datasets_download(owner, dataset)\n",
    "#result = thread.get()\n",
    "#downloads locally\n",
    "#thread = api.dataset_download_files('avenn98/world-of-warcraft-demographics')\n",
    "#response = thread.get()"
   ]
  },
  {
   "cell_type": "markdown",
   "metadata": {},
   "source": [
    "# Dataworld Downloads"
   ]
  },
  {
   "cell_type": "code",
   "execution_count": 100,
   "metadata": {},
   "outputs": [],
   "source": [
    "import datadotworld as dw\n",
    "\n",
    "# helpful to use dir() !\n",
    "\n",
    "def loadDf(path):\n",
    "    dfs = dw.load_dataset(path).dataframes._dict.values()\n",
    "    return list(dfs)[0]._loader_func()\n",
    "\n",
    "def getPath(url):\n",
    "    return url.replace(\"https://data.world/\",\"\")\n",
    "\n",
    "def getDf(url):\n",
    "    return loadDf(getPath(url))"
   ]
  },
  {
   "cell_type": "markdown",
   "metadata": {},
   "source": [
    "### Example paths:\n",
    "(From https://data.world/datasets/open-data)\n",
    "- jonloyens/an-intro-to-dataworld-dataset\n",
    "- https://data.world/dcopendata/swimming-pools\n",
    "- https://data.world/makeovermonday/2019w51"
   ]
  },
  {
   "cell_type": "code",
   "execution_count": 101,
   "metadata": {},
   "outputs": [
    {
     "data": {
      "text/html": [
       "<div>\n",
       "<style scoped>\n",
       "    .dataframe tbody tr th:only-of-type {\n",
       "        vertical-align: middle;\n",
       "    }\n",
       "\n",
       "    .dataframe tbody tr th {\n",
       "        vertical-align: top;\n",
       "    }\n",
       "\n",
       "    .dataframe thead th {\n",
       "        text-align: right;\n",
       "    }\n",
       "</style>\n",
       "<table border=\"1\" class=\"dataframe\">\n",
       "  <thead>\n",
       "    <tr style=\"text-align: right;\">\n",
       "      <th></th>\n",
       "      <th>season</th>\n",
       "      <th>rank</th>\n",
       "      <th>team</th>\n",
       "      <th>g</th>\n",
       "      <th>w</th>\n",
       "      <th>l</th>\n",
       "      <th>def_rtg</th>\n",
       "      <th>rtg_vs_league_avg</th>\n",
       "    </tr>\n",
       "  </thead>\n",
       "  <tbody>\n",
       "    <tr>\n",
       "      <th>0</th>\n",
       "      <td>1996-97</td>\n",
       "      <td>1.0</td>\n",
       "      <td>Miami Heat</td>\n",
       "      <td>82.0</td>\n",
       "      <td>61.0</td>\n",
       "      <td>21.0</td>\n",
       "      <td>99.2</td>\n",
       "      <td>0.944948</td>\n",
       "    </tr>\n",
       "    <tr>\n",
       "      <th>1</th>\n",
       "      <td>1996-97</td>\n",
       "      <td>2.0</td>\n",
       "      <td>New York Knicks</td>\n",
       "      <td>82.0</td>\n",
       "      <td>57.0</td>\n",
       "      <td>25.0</td>\n",
       "      <td>99.5</td>\n",
       "      <td>0.947806</td>\n",
       "    </tr>\n",
       "    <tr>\n",
       "      <th>2</th>\n",
       "      <td>1996-97</td>\n",
       "      <td>3.0</td>\n",
       "      <td>Atlanta Hawks</td>\n",
       "      <td>82.0</td>\n",
       "      <td>56.0</td>\n",
       "      <td>26.0</td>\n",
       "      <td>100.3</td>\n",
       "      <td>0.955426</td>\n",
       "    </tr>\n",
       "    <tr>\n",
       "      <th>3</th>\n",
       "      <td>1996-97</td>\n",
       "      <td>4.0</td>\n",
       "      <td>Chicago Bulls</td>\n",
       "      <td>82.0</td>\n",
       "      <td>69.0</td>\n",
       "      <td>13.0</td>\n",
       "      <td>100.7</td>\n",
       "      <td>0.959237</td>\n",
       "    </tr>\n",
       "    <tr>\n",
       "      <th>4</th>\n",
       "      <td>1996-97</td>\n",
       "      <td>5.0</td>\n",
       "      <td>Cleveland Cavaliers</td>\n",
       "      <td>82.0</td>\n",
       "      <td>42.0</td>\n",
       "      <td>40.0</td>\n",
       "      <td>100.8</td>\n",
       "      <td>0.960189</td>\n",
       "    </tr>\n",
       "  </tbody>\n",
       "</table>\n",
       "</div>"
      ],
      "text/plain": [
       "    season  rank                 team     g     w     l  def_rtg  \\\n",
       "0  1996-97   1.0           Miami Heat  82.0  61.0  21.0     99.2   \n",
       "1  1996-97   2.0      New York Knicks  82.0  57.0  25.0     99.5   \n",
       "2  1996-97   3.0        Atlanta Hawks  82.0  56.0  26.0    100.3   \n",
       "3  1996-97   4.0        Chicago Bulls  82.0  69.0  13.0    100.7   \n",
       "4  1996-97   5.0  Cleveland Cavaliers  82.0  42.0  40.0    100.8   \n",
       "\n",
       "   rtg_vs_league_avg  \n",
       "0           0.944948  \n",
       "1           0.947806  \n",
       "2           0.955426  \n",
       "3           0.959237  \n",
       "4           0.960189  "
      ]
     },
     "execution_count": 101,
     "metadata": {},
     "output_type": "execute_result"
    }
   ],
   "source": [
    "df = getDf(\"https://data.world/makeovermonday/2019w51\")\n",
    "df.head()"
   ]
  },
  {
   "cell_type": "code",
   "execution_count": null,
   "metadata": {},
   "outputs": [],
   "source": []
  }
 ],
 "metadata": {
  "kernelspec": {
   "display_name": "Python 3.7.6 64-bit",
   "language": "python",
   "name": "python37664bita46fd814d558463baa988311c2514a7b"
  },
  "language_info": {
   "codemirror_mode": {
    "name": "ipython",
    "version": 3
   },
   "file_extension": ".py",
   "mimetype": "text/x-python",
   "name": "python",
   "nbconvert_exporter": "python",
   "pygments_lexer": "ipython3",
   "version": "3.7.6"
  }
 },
 "nbformat": 4,
 "nbformat_minor": 2
}
