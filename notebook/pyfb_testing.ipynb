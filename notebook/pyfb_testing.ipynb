{
 "cells": [
  {
   "cell_type": "markdown",
   "metadata": {},
   "source": [
    "# Firebase Testing with Python\n",
    "\n",
    "This will be the code that we host on PythonAnywhere hopefully to communicate with the Firebase servers about various things, namely fetching CSV's to be used for analysis.\n",
    "\n",
    "Please run the imports only once, there are issues with reinitializing the firebase app."
   ]
  },
  {
   "cell_type": "code",
   "execution_count": 1,
   "metadata": {},
   "outputs": [],
   "source": [
    "import firebase_admin\n",
    "from firebase_admin import credentials, firestore\n",
    "from firebase_admin import storage\n",
    "\n",
    "if not firebase_admin._apps:\n",
    "    cred = credentials.Certificate('mlforall-admin-sdk.json')\n",
    "    firebase_admin.initialize_app(cred, {\n",
    "        'storageBucket': 'mlforall-14bf7.appspot.com'\n",
    "    })\n",
    "bucket = storage.bucket()\n",
    "\n",
    "# 'bucket' is an object defined in the google-cloud-storage Python library.\n",
    "# See https://googlecloudplatform.github.io/google-cloud-python/latest/storage/buckets.html\n",
    "# for more details."
   ]
  },
  {
   "cell_type": "markdown",
   "metadata": {},
   "source": [
    "## Reading CSV From Storage\n",
    "\n",
    "Some stats stuff that we'll need"
   ]
  },
  {
   "cell_type": "code",
   "execution_count": 2,
   "metadata": {},
   "outputs": [],
   "source": [
    "import pandas as pd\n",
    "import numpy as np\n",
    "import pickle\n",
    "from io import StringIO"
   ]
  },
  {
   "cell_type": "markdown",
   "metadata": {},
   "source": [
    "Modified from GCS Documentation, How to Download Files https://cloud.google.com/storage/docs/downloading-objects#code-samples"
   ]
  },
  {
   "cell_type": "code",
   "execution_count": 3,
   "metadata": {},
   "outputs": [],
   "source": [
    "def get_blob(bucket, source_blob_name):\n",
    "    \n",
    "    blob = bucket.blob(source_blob_name)\n",
    "    csv_bytes = blob.download_as_string()\n",
    "    s = str(csv_bytes,'utf-8')\n",
    "    data = StringIO(s) \n",
    "\n",
    "    return pd.read_csv(data)"
   ]
  },
  {
   "cell_type": "markdown",
   "metadata": {},
   "source": [
    "My Tests"
   ]
  },
  {
   "cell_type": "code",
   "execution_count": 4,
   "metadata": {},
   "outputs": [],
   "source": [
    "def make_path(uid, project_title, file_name):\n",
    "    return uid + \"/\" + project_title + \"/\" + file_name"
   ]
  },
  {
   "cell_type": "code",
   "execution_count": 7,
   "metadata": {},
   "outputs": [],
   "source": [
    "uid = \"UDjMojFqWHOdW0fCIJPMNPScQ9p1\"\n",
    "project_title = \"Spotify\"\n",
    "file_name = \"simple_top50.csv\"\n",
    "# project_title = \"Pokemon\"\n",
    "# file_name = \"Pokemon.csv\""
   ]
  },
  {
   "cell_type": "code",
   "execution_count": 8,
   "metadata": {},
   "outputs": [
    {
     "data": {
      "text/html": [
       "<div>\n",
       "<style scoped>\n",
       "    .dataframe tbody tr th:only-of-type {\n",
       "        vertical-align: middle;\n",
       "    }\n",
       "\n",
       "    .dataframe tbody tr th {\n",
       "        vertical-align: top;\n",
       "    }\n",
       "\n",
       "    .dataframe thead th {\n",
       "        text-align: right;\n",
       "    }\n",
       "</style>\n",
       "<table border=\"1\" class=\"dataframe\">\n",
       "  <thead>\n",
       "    <tr style=\"text-align: right;\">\n",
       "      <th></th>\n",
       "      <th>id</th>\n",
       "      <th>Track.Name</th>\n",
       "      <th>Artist.Name</th>\n",
       "      <th>Genre</th>\n",
       "      <th>Beats.Per.Minute</th>\n",
       "      <th>Energy</th>\n",
       "      <th>Danceability</th>\n",
       "      <th>Loudness..dB..</th>\n",
       "      <th>Liveness</th>\n",
       "      <th>Valence.</th>\n",
       "      <th>Length.</th>\n",
       "      <th>Acousticness..</th>\n",
       "      <th>Speechiness.</th>\n",
       "      <th>Popularity</th>\n",
       "    </tr>\n",
       "  </thead>\n",
       "  <tbody>\n",
       "    <tr>\n",
       "      <th>0</th>\n",
       "      <td>1</td>\n",
       "      <td>SeÒorita</td>\n",
       "      <td>Shawn Mendes</td>\n",
       "      <td>foreign pop</td>\n",
       "      <td>117</td>\n",
       "      <td>55</td>\n",
       "      <td>76</td>\n",
       "      <td>-6</td>\n",
       "      <td>8</td>\n",
       "      <td>75</td>\n",
       "      <td>191</td>\n",
       "      <td>4</td>\n",
       "      <td>3</td>\n",
       "      <td>79</td>\n",
       "    </tr>\n",
       "    <tr>\n",
       "      <th>1</th>\n",
       "      <td>2</td>\n",
       "      <td>China</td>\n",
       "      <td>Anuel AA</td>\n",
       "      <td>reggaeton</td>\n",
       "      <td>105</td>\n",
       "      <td>81</td>\n",
       "      <td>79</td>\n",
       "      <td>-4</td>\n",
       "      <td>8</td>\n",
       "      <td>61</td>\n",
       "      <td>302</td>\n",
       "      <td>8</td>\n",
       "      <td>9</td>\n",
       "      <td>92</td>\n",
       "    </tr>\n",
       "    <tr>\n",
       "      <th>2</th>\n",
       "      <td>3</td>\n",
       "      <td>boyfriend (with Social House)</td>\n",
       "      <td>Ariana Grande</td>\n",
       "      <td>dance pop</td>\n",
       "      <td>190</td>\n",
       "      <td>80</td>\n",
       "      <td>40</td>\n",
       "      <td>-4</td>\n",
       "      <td>16</td>\n",
       "      <td>70</td>\n",
       "      <td>186</td>\n",
       "      <td>12</td>\n",
       "      <td>46</td>\n",
       "      <td>85</td>\n",
       "    </tr>\n",
       "    <tr>\n",
       "      <th>3</th>\n",
       "      <td>4</td>\n",
       "      <td>Beautiful People (feat. Khalid)</td>\n",
       "      <td>Ed Sheeran</td>\n",
       "      <td>pop</td>\n",
       "      <td>93</td>\n",
       "      <td>65</td>\n",
       "      <td>64</td>\n",
       "      <td>-8</td>\n",
       "      <td>8</td>\n",
       "      <td>55</td>\n",
       "      <td>198</td>\n",
       "      <td>12</td>\n",
       "      <td>19</td>\n",
       "      <td>86</td>\n",
       "    </tr>\n",
       "    <tr>\n",
       "      <th>4</th>\n",
       "      <td>5</td>\n",
       "      <td>Goodbyes (Feat. Young Thug)</td>\n",
       "      <td>Post Malone</td>\n",
       "      <td>rap</td>\n",
       "      <td>150</td>\n",
       "      <td>65</td>\n",
       "      <td>58</td>\n",
       "      <td>-4</td>\n",
       "      <td>11</td>\n",
       "      <td>18</td>\n",
       "      <td>175</td>\n",
       "      <td>45</td>\n",
       "      <td>7</td>\n",
       "      <td>94</td>\n",
       "    </tr>\n",
       "  </tbody>\n",
       "</table>\n",
       "</div>"
      ],
      "text/plain": [
       "   id                       Track.Name    Artist.Name        Genre  \\\n",
       "0   1                         SeÒorita   Shawn Mendes  foreign pop   \n",
       "1   2                            China       Anuel AA    reggaeton   \n",
       "2   3    boyfriend (with Social House)  Ariana Grande    dance pop   \n",
       "3   4  Beautiful People (feat. Khalid)     Ed Sheeran          pop   \n",
       "4   5      Goodbyes (Feat. Young Thug)    Post Malone          rap   \n",
       "\n",
       "   Beats.Per.Minute  Energy  Danceability  Loudness..dB..  Liveness  Valence.  \\\n",
       "0               117      55            76              -6         8        75   \n",
       "1               105      81            79              -4         8        61   \n",
       "2               190      80            40              -4        16        70   \n",
       "3                93      65            64              -8         8        55   \n",
       "4               150      65            58              -4        11        18   \n",
       "\n",
       "   Length.  Acousticness..  Speechiness.  Popularity  \n",
       "0      191               4             3          79  \n",
       "1      302               8             9          92  \n",
       "2      186              12            46          85  \n",
       "3      198              12            19          86  \n",
       "4      175              45             7          94  "
      ]
     },
     "execution_count": 8,
     "metadata": {},
     "output_type": "execute_result"
    }
   ],
   "source": [
    "df = get_blob(bucket, make_path(uid, project_title, file_name))\n",
    "df.head()"
   ]
  },
  {
   "cell_type": "markdown",
   "metadata": {},
   "source": [
    "## Slider Stats\n",
    "\n",
    "We'll need to be able to update our variables field in firestore to be able to make some juicy nice sliders."
   ]
  },
  {
   "cell_type": "code",
   "execution_count": 9,
   "metadata": {},
   "outputs": [],
   "source": [
    "from firebase_admin import firestore #already did this but just to emphasize\n",
    "\n",
    "db = firestore.client()"
   ]
  },
  {
   "cell_type": "code",
   "execution_count": 11,
   "metadata": {},
   "outputs": [
    {
     "name": "stdout",
     "output_type": "stream",
     "text": [
      "Document data: {'title': 'Spotify', 'content': 'This will be my first classification project about Spotify. Project titles will serve both as directory names and titles.', 'models': ['log_reg', 'knn'], 'authorLastName': 'Huang', 'createdAt': DatetimeWithNanoseconds(2020, 5, 15, 22, 5, 35, 75000, tzinfo=<UTC>), 'authorFirstName': 'Len', 'variables': [{'lo': 85.0, 'hi': 190.0, 'name': 'Beats.Per.Minute', 'q1': 96.0, 'q2': 104.5, 'q3': 137.5}, {'hi': 88.0, 'name': 'Energy', 'q1': 55.25, 'q2': 66.5, 'q3': 74.75, 'lo': 32.0}, {'name': 'Popularity', 'q1': 86.0, 'q2': 88.0, 'q3': 90.75, 'lo': 70.0, 'hi': 95.0}], 'csvName': 'simple_top50.csv', 'authorID': 'UDjMojFqWHOdW0fCIJPMNPScQ9p1'}\n"
     ]
    }
   ],
   "source": [
    "# proj_id = u'Ur5zFvWTPh6bnnAVjcEf' # unique ID for Pokemon\n",
    "# proj_id = 'e4PkqmpN7UdbV0ms1pDH' # \"delete later\" project\n",
    "proj_id = 'JvaRJzIQ133wbIY3Wa1P' # unique ID for Spotify\n",
    "project_ref = db.collection(\"projects\").document(proj_id)\n",
    "doc = project_ref.get()\n",
    "if doc.exists:\n",
    "    print(\"Document data: {}\".format(doc.to_dict()))\n",
    "else:\n",
    "    print(\"No such document!\")\n",
    "doc = doc.to_dict()"
   ]
  },
  {
   "cell_type": "code",
   "execution_count": 12,
   "metadata": {},
   "outputs": [],
   "source": [
    "def getInformation(df, input_variable):\n",
    "    ref = df.describe()[input_variable]\n",
    "    info = {\n",
    "        \"name\" : input_variable,\n",
    "        \"lo\" : ref[3],\n",
    "        \"hi\" : ref[7],\n",
    "        \"q1\" : ref[4],\n",
    "        \"q2\" : ref[5],\n",
    "        \"q3\" : ref[6]\n",
    "    }\n",
    "    return info\n",
    "\n",
    "def getVariables(df, input_list):\n",
    "    variables = []\n",
    "    for inp in input_list:\n",
    "        variables.append(getInformation(df, inp))\n",
    "    return variables"
   ]
  },
  {
   "cell_type": "code",
   "execution_count": 13,
   "metadata": {},
   "outputs": [
    {
     "data": {
      "text/plain": [
       "[{'name': 'Popularity',\n",
       "  'lo': 70.0,\n",
       "  'hi': 95.0,\n",
       "  'q1': 86.0,\n",
       "  'q2': 88.0,\n",
       "  'q3': 90.75}]"
      ]
     },
     "execution_count": 13,
     "metadata": {},
     "output_type": "execute_result"
    }
   ],
   "source": [
    "# project_ref.update({\"variables\" : getVariables(df, [\"HP\",\"Attack\",\"Defense\",\"Speed\"])})\n",
    "getVariables(df, [\"Popularity\"])"
   ]
  },
  {
   "cell_type": "code",
   "execution_count": 14,
   "metadata": {},
   "outputs": [
    {
     "data": {
      "text/plain": [
       "count    50.000000\n",
       "mean     87.500000\n",
       "std       4.491489\n",
       "min      70.000000\n",
       "25%      86.000000\n",
       "50%      88.000000\n",
       "75%      90.750000\n",
       "max      95.000000\n",
       "Name: Popularity, dtype: float64"
      ]
     },
     "execution_count": 14,
     "metadata": {},
     "output_type": "execute_result"
    }
   ],
   "source": [
    "df.describe()[\"Popularity\"]"
   ]
  },
  {
   "cell_type": "markdown",
   "metadata": {},
   "source": [
    "## Uploading Pickles to Storage\n",
    "\n",
    "First let's make some models"
   ]
  },
  {
   "cell_type": "code",
   "execution_count": 7,
   "metadata": {},
   "outputs": [],
   "source": [
    "from sklearn.linear_model import LogisticRegression\n",
    "from sklearn.model_selection import train_test_split\n",
    "from sklearn.preprocessing import MinMaxScaler"
   ]
  },
  {
   "cell_type": "code",
   "execution_count": 8,
   "metadata": {},
   "outputs": [],
   "source": [
    "def build_logistic_regression(X, y):\n",
    "    logreg = LogisticRegression()\n",
    "    logreg.fit(X, y)\n",
    "    return logreg\n",
    "\n",
    "def build_and_pickle(df, target_parameter, df_variables, pickle_name, debug=False):\n",
    "    target = df[target_parameter]\n",
    "    col_name_list = list(df.columns)\n",
    "    \n",
    "    for col in df_variables:\n",
    "        if col in col_name_list:\n",
    "            col_name_list.remove(col)\n",
    "            \n",
    "    df.drop(col_name_list, axis=1, inplace=True)\n",
    "    # now target contains the labels, and df contains the variables\n",
    "    X = df\n",
    "    y = target\n",
    "    X_train, X_test, y_train, y_test = train_test_split(X, y, random_state=0)\n",
    "    scaler = MinMaxScaler()\n",
    "    X_train = scaler.fit_transform(X_train)\n",
    "    X_test = scaler.transform(X_test)\n",
    "    # models\n",
    "    logreg = build_logistic_regression(X_train, y_train)\n",
    "    \n",
    "    return pickle.dumps(logreg)\n",
    "\n",
    "def update_firestore()"
   ]
  },
  {
   "cell_type": "markdown",
   "metadata": {},
   "source": [
    "Some testing info"
   ]
  },
  {
   "cell_type": "code",
   "execution_count": 9,
   "metadata": {},
   "outputs": [],
   "source": [
    "# target = 'Genre'\n",
    "# variables = ['Beats.Per.Minute', 'Energy', 'Danceability','Loudness..dB..', 'Liveness', 'Valence.', 'Length.']\n",
    "\n",
    "target = 'Type 1'\n",
    "variables = ['HP', 'Attack', 'Defense','Speed']\n",
    "\n",
    "pickle_name = \"log_reg\"\n",
    "path = make_path(uid, project_title, pickle_name)\n",
    "pickle_bytes = build_and_pickle(df, target, variables, project_title, debug=True)"
   ]
  },
  {
   "cell_type": "markdown",
   "metadata": {},
   "source": [
    "## Pickle Functions"
   ]
  },
  {
   "cell_type": "code",
   "execution_count": 10,
   "metadata": {},
   "outputs": [],
   "source": [
    "#from joblib import dump, load\n",
    "\n",
    "def p_send_blob(bucket, pickle_bytes, pickle_path):\n",
    "    \n",
    "    blob = bucket.blob(pickle_path)\n",
    "    blob.upload_from_string(pickle_bytes)\n",
    "\n",
    "def p_get_blob(bucket, pickle_path):\n",
    "        \n",
    "    blob = bucket.blob(pickle_path)\n",
    "    pickle_bytes = blob.download_as_string()\n",
    "\n",
    "    return pickle.loads(pickle_bytes)"
   ]
  },
  {
   "cell_type": "markdown",
   "metadata": {},
   "source": [
    "Send our data to the storage"
   ]
  },
  {
   "cell_type": "code",
   "execution_count": 11,
   "metadata": {},
   "outputs": [],
   "source": [
    "p_send_blob(bucket, pickle_bytes, path)"
   ]
  },
  {
   "cell_type": "markdown",
   "metadata": {},
   "source": [
    "Get the data back"
   ]
  },
  {
   "cell_type": "code",
   "execution_count": 12,
   "metadata": {},
   "outputs": [],
   "source": [
    "def floatCast(num):\n",
    "    return float(num)\n",
    "\n",
    "def load_and_predict(model, prediction_variables):\n",
    "    X_predict = [list(map(floatCast, prediction_variables))]\n",
    "    guess = model.predict(X_predict)\n",
    "    return guess[0]"
   ]
  },
  {
   "cell_type": "code",
   "execution_count": 13,
   "metadata": {},
   "outputs": [
    {
     "data": {
      "text/plain": [
       "'Psychic'"
      ]
     },
     "execution_count": 13,
     "metadata": {},
     "output_type": "execute_result"
    }
   ],
   "source": [
    "model = p_get_blob(bucket,path)\n",
    "# X_predict = [120,64,70,-5,14,54,200] # spotify\n",
    "X_predict = [40, 10, 20, 80] # pokemon\n",
    "\n",
    "load_and_predict(model, X_predict)"
   ]
  },
  {
   "cell_type": "markdown",
   "metadata": {},
   "source": [
    "# Kaggle Downloads"
   ]
  },
  {
   "cell_type": "code",
   "execution_count": 49,
   "metadata": {},
   "outputs": [
    {
     "name": "stdout",
     "output_type": "stream",
     "text": [
      "Warning: Your Kaggle API key is readable by other users on this system! To fix this, you can run 'chmod 600 /Users/lenny/.kaggle/kaggle.json'\n"
     ]
    }
   ],
   "source": [
    "from kaggle.api.kaggle_api_extended import KaggleApi\n",
    "api = KaggleApi()\n",
    "api.authenticate()"
   ]
  },
  {
   "cell_type": "markdown",
   "metadata": {},
   "source": [
    "Code taken / modified from https://github.com/Kaggle/kaggle-api/blob/master/kaggle/api/kaggle_api_extended.py and https://github.com/Kaggle/kaggle-api/blob/master/kaggle/api/kaggle_api.py and https://github.com/Kaggle/kaggle-api/blob/3ce5046d42d55b951ad301053e002930cead1cbc/kaggle/api/kaggle_api.py#L1506"
   ]
  },
  {
   "cell_type": "code",
   "execution_count": 2,
   "metadata": {},
   "outputs": [],
   "source": [
    "def getSlugs(dataset):\n",
    "    # dataset: string informat [owner]/[dataset-name]\n",
    "    if '/' in dataset:\n",
    "        dataset_urls = dataset.split('/')\n",
    "        owner_slug = dataset_urls[0]\n",
    "        dataset_slug = dataset_urls[1]\n",
    "        return owner_slug, dataset_slug\n",
    "    else:\n",
    "        return None"
   ]
  },
  {
   "cell_type": "code",
   "execution_count": 3,
   "metadata": {},
   "outputs": [],
   "source": [
    "owner, dataset = getSlugs(\"avenn98/world-of-warcraft-demographics\")\n",
    "# thread = api.datasets_download(owner, dataset)\n",
    "#result = thread.get()\n",
    "#downloads locally\n",
    "#thread = api.dataset_download_files('avenn98/world-of-warcraft-demographics')\n",
    "#response = thread.get()"
   ]
  },
  {
   "cell_type": "markdown",
   "metadata": {},
   "source": [
    "# Dataworld Downloads"
   ]
  },
  {
   "cell_type": "code",
   "execution_count": 100,
   "metadata": {},
   "outputs": [],
   "source": [
    "import datadotworld as dw\n",
    "\n",
    "# helpful to use dir() !\n",
    "\n",
    "def loadDf(path):\n",
    "    dfs = dw.load_dataset(path).dataframes._dict.values()\n",
    "    return list(dfs)[0]._loader_func()\n",
    "\n",
    "def getPath(url):\n",
    "    return url.replace(\"https://data.world/\",\"\")\n",
    "\n",
    "def getDf(url):\n",
    "    return loadDf(getPath(url))"
   ]
  },
  {
   "cell_type": "markdown",
   "metadata": {},
   "source": [
    "### Example paths:\n",
    "(From https://data.world/datasets/open-data)\n",
    "- jonloyens/an-intro-to-dataworld-dataset\n",
    "- https://data.world/dcopendata/swimming-pools\n",
    "- https://data.world/makeovermonday/2019w51"
   ]
  },
  {
   "cell_type": "code",
   "execution_count": 101,
   "metadata": {},
   "outputs": [
    {
     "data": {
      "text/html": [
       "<div>\n",
       "<style scoped>\n",
       "    .dataframe tbody tr th:only-of-type {\n",
       "        vertical-align: middle;\n",
       "    }\n",
       "\n",
       "    .dataframe tbody tr th {\n",
       "        vertical-align: top;\n",
       "    }\n",
       "\n",
       "    .dataframe thead th {\n",
       "        text-align: right;\n",
       "    }\n",
       "</style>\n",
       "<table border=\"1\" class=\"dataframe\">\n",
       "  <thead>\n",
       "    <tr style=\"text-align: right;\">\n",
       "      <th></th>\n",
       "      <th>season</th>\n",
       "      <th>rank</th>\n",
       "      <th>team</th>\n",
       "      <th>g</th>\n",
       "      <th>w</th>\n",
       "      <th>l</th>\n",
       "      <th>def_rtg</th>\n",
       "      <th>rtg_vs_league_avg</th>\n",
       "    </tr>\n",
       "  </thead>\n",
       "  <tbody>\n",
       "    <tr>\n",
       "      <th>0</th>\n",
       "      <td>1996-97</td>\n",
       "      <td>1.0</td>\n",
       "      <td>Miami Heat</td>\n",
       "      <td>82.0</td>\n",
       "      <td>61.0</td>\n",
       "      <td>21.0</td>\n",
       "      <td>99.2</td>\n",
       "      <td>0.944948</td>\n",
       "    </tr>\n",
       "    <tr>\n",
       "      <th>1</th>\n",
       "      <td>1996-97</td>\n",
       "      <td>2.0</td>\n",
       "      <td>New York Knicks</td>\n",
       "      <td>82.0</td>\n",
       "      <td>57.0</td>\n",
       "      <td>25.0</td>\n",
       "      <td>99.5</td>\n",
       "      <td>0.947806</td>\n",
       "    </tr>\n",
       "    <tr>\n",
       "      <th>2</th>\n",
       "      <td>1996-97</td>\n",
       "      <td>3.0</td>\n",
       "      <td>Atlanta Hawks</td>\n",
       "      <td>82.0</td>\n",
       "      <td>56.0</td>\n",
       "      <td>26.0</td>\n",
       "      <td>100.3</td>\n",
       "      <td>0.955426</td>\n",
       "    </tr>\n",
       "    <tr>\n",
       "      <th>3</th>\n",
       "      <td>1996-97</td>\n",
       "      <td>4.0</td>\n",
       "      <td>Chicago Bulls</td>\n",
       "      <td>82.0</td>\n",
       "      <td>69.0</td>\n",
       "      <td>13.0</td>\n",
       "      <td>100.7</td>\n",
       "      <td>0.959237</td>\n",
       "    </tr>\n",
       "    <tr>\n",
       "      <th>4</th>\n",
       "      <td>1996-97</td>\n",
       "      <td>5.0</td>\n",
       "      <td>Cleveland Cavaliers</td>\n",
       "      <td>82.0</td>\n",
       "      <td>42.0</td>\n",
       "      <td>40.0</td>\n",
       "      <td>100.8</td>\n",
       "      <td>0.960189</td>\n",
       "    </tr>\n",
       "  </tbody>\n",
       "</table>\n",
       "</div>"
      ],
      "text/plain": [
       "    season  rank                 team     g     w     l  def_rtg  \\\n",
       "0  1996-97   1.0           Miami Heat  82.0  61.0  21.0     99.2   \n",
       "1  1996-97   2.0      New York Knicks  82.0  57.0  25.0     99.5   \n",
       "2  1996-97   3.0        Atlanta Hawks  82.0  56.0  26.0    100.3   \n",
       "3  1996-97   4.0        Chicago Bulls  82.0  69.0  13.0    100.7   \n",
       "4  1996-97   5.0  Cleveland Cavaliers  82.0  42.0  40.0    100.8   \n",
       "\n",
       "   rtg_vs_league_avg  \n",
       "0           0.944948  \n",
       "1           0.947806  \n",
       "2           0.955426  \n",
       "3           0.959237  \n",
       "4           0.960189  "
      ]
     },
     "execution_count": 101,
     "metadata": {},
     "output_type": "execute_result"
    }
   ],
   "source": [
    "df = getDf(\"https://data.world/makeovermonday/2019w51\")\n",
    "df.head()"
   ]
  },
  {
   "cell_type": "code",
   "execution_count": null,
   "metadata": {},
   "outputs": [],
   "source": []
  }
 ],
 "metadata": {
  "kernelspec": {
   "display_name": "Python 3.7.6 64-bit",
   "language": "python",
   "name": "python37664bita46fd814d558463baa988311c2514a7b"
  },
  "language_info": {
   "codemirror_mode": {
    "name": "ipython",
    "version": 3
   },
   "file_extension": ".py",
   "mimetype": "text/x-python",
   "name": "python",
   "nbconvert_exporter": "python",
   "pygments_lexer": "ipython3",
   "version": "3.7.6"
  }
 },
 "nbformat": 4,
 "nbformat_minor": 2
}
