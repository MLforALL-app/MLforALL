{
 "cells": [
  {
   "cell_type": "markdown",
   "metadata": {},
   "source": [
    "# Messing Around With Classification Models\n",
    "Len Huang, experimenting with scikit learn\n",
    "https://towardsdatascience.com/solving-a-simple-classification-problem-with-python-fruits-lovers-edition-d20ab6b071d2\n",
    "using the Spotify Top 50 2019 Songs dataset https://www.kaggle.com/leonardopena/top50spotify2019"
   ]
  },
  {
   "cell_type": "code",
   "execution_count": 3,
   "metadata": {},
   "outputs": [],
   "source": [
    "import pandas as pd\n",
    "import matplotlib.pyplot as plt\n",
    "import pylab as pl\n",
    "import seaborn as sns"
   ]
  },
  {
   "cell_type": "markdown",
   "metadata": {},
   "source": [
    "### Read in the CSV Data"
   ]
  },
  {
   "cell_type": "code",
   "execution_count": 8,
   "metadata": {},
   "outputs": [
    {
     "data": {
      "text/html": [
       "<div>\n",
       "<style scoped>\n",
       "    .dataframe tbody tr th:only-of-type {\n",
       "        vertical-align: middle;\n",
       "    }\n",
       "\n",
       "    .dataframe tbody tr th {\n",
       "        vertical-align: top;\n",
       "    }\n",
       "\n",
       "    .dataframe thead th {\n",
       "        text-align: right;\n",
       "    }\n",
       "</style>\n",
       "<table border=\"1\" class=\"dataframe\">\n",
       "  <thead>\n",
       "    <tr style=\"text-align: right;\">\n",
       "      <th></th>\n",
       "      <th>id</th>\n",
       "      <th>Artist.Name</th>\n",
       "      <th>Genre</th>\n",
       "      <th>Beats.Per.Minute</th>\n",
       "      <th>Energy</th>\n",
       "      <th>Danceability</th>\n",
       "      <th>Loudness..dB..</th>\n",
       "      <th>Liveness</th>\n",
       "      <th>Valence.</th>\n",
       "      <th>Length.</th>\n",
       "      <th>Acousticness..</th>\n",
       "      <th>Speechiness.</th>\n",
       "      <th>Popularity</th>\n",
       "    </tr>\n",
       "    <tr>\n",
       "      <th>Track.Name</th>\n",
       "      <th></th>\n",
       "      <th></th>\n",
       "      <th></th>\n",
       "      <th></th>\n",
       "      <th></th>\n",
       "      <th></th>\n",
       "      <th></th>\n",
       "      <th></th>\n",
       "      <th></th>\n",
       "      <th></th>\n",
       "      <th></th>\n",
       "      <th></th>\n",
       "      <th></th>\n",
       "    </tr>\n",
       "  </thead>\n",
       "  <tbody>\n",
       "    <tr>\n",
       "      <th>SeÒorita</th>\n",
       "      <td>1</td>\n",
       "      <td>Shawn Mendes</td>\n",
       "      <td>foreign pop</td>\n",
       "      <td>117</td>\n",
       "      <td>55</td>\n",
       "      <td>76</td>\n",
       "      <td>-6</td>\n",
       "      <td>8</td>\n",
       "      <td>75</td>\n",
       "      <td>191</td>\n",
       "      <td>4</td>\n",
       "      <td>3</td>\n",
       "      <td>79</td>\n",
       "    </tr>\n",
       "    <tr>\n",
       "      <th>China</th>\n",
       "      <td>2</td>\n",
       "      <td>Anuel AA</td>\n",
       "      <td>reggaeton</td>\n",
       "      <td>105</td>\n",
       "      <td>81</td>\n",
       "      <td>79</td>\n",
       "      <td>-4</td>\n",
       "      <td>8</td>\n",
       "      <td>61</td>\n",
       "      <td>302</td>\n",
       "      <td>8</td>\n",
       "      <td>9</td>\n",
       "      <td>92</td>\n",
       "    </tr>\n",
       "    <tr>\n",
       "      <th>boyfriend (with Social House)</th>\n",
       "      <td>3</td>\n",
       "      <td>Ariana Grande</td>\n",
       "      <td>dance pop</td>\n",
       "      <td>190</td>\n",
       "      <td>80</td>\n",
       "      <td>40</td>\n",
       "      <td>-4</td>\n",
       "      <td>16</td>\n",
       "      <td>70</td>\n",
       "      <td>186</td>\n",
       "      <td>12</td>\n",
       "      <td>46</td>\n",
       "      <td>85</td>\n",
       "    </tr>\n",
       "    <tr>\n",
       "      <th>Beautiful People (feat. Khalid)</th>\n",
       "      <td>4</td>\n",
       "      <td>Ed Sheeran</td>\n",
       "      <td>pop</td>\n",
       "      <td>93</td>\n",
       "      <td>65</td>\n",
       "      <td>64</td>\n",
       "      <td>-8</td>\n",
       "      <td>8</td>\n",
       "      <td>55</td>\n",
       "      <td>198</td>\n",
       "      <td>12</td>\n",
       "      <td>19</td>\n",
       "      <td>86</td>\n",
       "    </tr>\n",
       "    <tr>\n",
       "      <th>Goodbyes (Feat. Young Thug)</th>\n",
       "      <td>5</td>\n",
       "      <td>Post Malone</td>\n",
       "      <td>rap</td>\n",
       "      <td>150</td>\n",
       "      <td>65</td>\n",
       "      <td>58</td>\n",
       "      <td>-4</td>\n",
       "      <td>11</td>\n",
       "      <td>18</td>\n",
       "      <td>175</td>\n",
       "      <td>45</td>\n",
       "      <td>7</td>\n",
       "      <td>94</td>\n",
       "    </tr>\n",
       "  </tbody>\n",
       "</table>\n",
       "</div>"
      ],
      "text/plain": [
       "                                 id    Artist.Name        Genre  \\\n",
       "Track.Name                                                        \n",
       "SeÒorita                          1   Shawn Mendes  foreign pop   \n",
       "China                             2       Anuel AA    reggaeton   \n",
       "boyfriend (with Social House)     3  Ariana Grande    dance pop   \n",
       "Beautiful People (feat. Khalid)   4     Ed Sheeran          pop   \n",
       "Goodbyes (Feat. Young Thug)       5    Post Malone          rap   \n",
       "\n",
       "                                 Beats.Per.Minute  Energy  Danceability  \\\n",
       "Track.Name                                                                \n",
       "SeÒorita                                      117      55            76   \n",
       "China                                         105      81            79   \n",
       "boyfriend (with Social House)                 190      80            40   \n",
       "Beautiful People (feat. Khalid)                93      65            64   \n",
       "Goodbyes (Feat. Young Thug)                   150      65            58   \n",
       "\n",
       "                                 Loudness..dB..  Liveness  Valence.  Length.  \\\n",
       "Track.Name                                                                     \n",
       "SeÒorita                                     -6         8        75      191   \n",
       "China                                        -4         8        61      302   \n",
       "boyfriend (with Social House)                -4        16        70      186   \n",
       "Beautiful People (feat. Khalid)              -8         8        55      198   \n",
       "Goodbyes (Feat. Young Thug)                  -4        11        18      175   \n",
       "\n",
       "                                 Acousticness..  Speechiness.  Popularity  \n",
       "Track.Name                                                                 \n",
       "SeÒorita                                      4             3          79  \n",
       "China                                         8             9          92  \n",
       "boyfriend (with Social House)                12            46          85  \n",
       "Beautiful People (feat. Khalid)              12            19          86  \n",
       "Goodbyes (Feat. Young Thug)                  45             7          94  "
      ]
     },
     "execution_count": 8,
     "metadata": {},
     "output_type": "execute_result"
    }
   ],
   "source": [
    "#songs_alot = pd.read_csv(\"top50.csv\", index_col=\"Track.Name\") \n",
    "songs_simple = pd.read_csv(\"simple_top50.csv\", index_col=\"Track.Name\")\n",
    "songs = songs_simple\n",
    "songs.head()"
   ]
  },
  {
   "cell_type": "markdown",
   "metadata": {},
   "source": [
    "### Dataframe Info"
   ]
  },
  {
   "cell_type": "code",
   "execution_count": 9,
   "metadata": {},
   "outputs": [
    {
     "name": "stdout",
     "output_type": "stream",
     "text": [
      "What is the output parameter: Genre\n",
      "What is the index of the first column of your inputs: 3\n"
     ]
    }
   ],
   "source": [
    "# This needs a lot of improvement to become more generalized. For examples, what if the columns \n",
    "# the user wants aren't adjacent, then we can't array splice with [::]. Maybe do something with \n",
    "# inputting desired columns and then List.join them or something. Note that our code assumes that\n",
    "# output is \"Genre\" and start is 3\n",
    "\n",
    "output = input(\"What is the output parameter: \")\n",
    "start = input(\"What is the index of the first column of your inputs: \")\n",
    "start = int(start)"
   ]
  },
  {
   "cell_type": "code",
   "execution_count": 10,
   "metadata": {},
   "outputs": [
    {
     "name": "stdout",
     "output_type": "stream",
     "text": [
      "['foreign pop' 'reggaeton' 'dance pop' 'pop' 'rap' 'hip hop' 'latin' 'edm']\n"
     ]
    }
   ],
   "source": [
    "print(songs[output].unique())"
   ]
  },
  {
   "cell_type": "code",
   "execution_count": 11,
   "metadata": {},
   "outputs": [
    {
     "name": "stdout",
     "output_type": "stream",
     "text": [
      "Genre\n",
      "dance pop       9\n",
      "edm             6\n",
      "foreign pop     5\n",
      "hip hop         4\n",
      "latin           6\n",
      "pop            11\n",
      "rap             5\n",
      "reggaeton       4\n",
      "dtype: int64\n"
     ]
    }
   ],
   "source": [
    "print(songs.groupby(output).size())"
   ]
  },
  {
   "cell_type": "code",
   "execution_count": 12,
   "metadata": {},
   "outputs": [
    {
     "data": {
      "image/png": "[encoded data removed]",
      "text/plain": [
       "<Figure size 432x288 with 1 Axes>"
      ]
     },
     "metadata": {
      "needs_background": "light"
     },
     "output_type": "display_data"
    }
   ],
   "source": [
    "chart = sns.countplot(songs[output],label=\"Count\")\n",
    "chart.set_xticklabels(chart.get_xticklabels(), rotation=45, horizontalalignment='right')\n",
    "plt.show()"
   ]
  },
  {
   "cell_type": "markdown",
   "metadata": {},
   "source": [
    "### Visualization of the Inputs"
   ]
  },
  {
   "cell_type": "code",
   "execution_count": 115,
   "metadata": {},
   "outputs": [],
   "source": [
    "# from pandas.plotting import scatter_matrix\n",
    "# from matplotlib import cm "
   ]
  },
  {
   "cell_type": "code",
   "execution_count": 13,
   "metadata": {},
   "outputs": [
    {
     "name": "stdout",
     "output_type": "stream",
     "text": [
      "['Beats.Per.Minute', 'Energy', 'Danceability', 'Loudness..dB..', 'Liveness', 'Valence.', 'Length.', 'Acousticness..', 'Speechiness.', 'Popularity']\n"
     ]
    }
   ],
   "source": [
    "labels = list(songs.columns)\n",
    "inputs = labels[start:]\n",
    "print(inputs)"
   ]
  },
  {
   "cell_type": "code",
   "execution_count": 14,
   "metadata": {},
   "outputs": [
    {
     "data": {
      "image/png": "[encoded data removed]",
      "text/plain": [
       "<Figure size 432x288 with 1 Axes>"
      ]
     },
     "metadata": {
      "needs_background": "light"
     },
     "output_type": "display_data"
    }
   ],
   "source": [
    "sns.distplot(songs[\"Beats.Per.Minute\"], kde=False)\n",
    "plt.show()\n",
    "\n",
    "# TODO: Find a way to do more visualizations for the input and maybe \n",
    "#       add as a stage to let users see and decide which variables \n",
    "#       they would like to include as input"
   ]
  },
  {
   "cell_type": "code",
   "execution_count": 15,
   "metadata": {},
   "outputs": [],
   "source": [
    "X = songs[inputs]\n",
    "y = songs['Genre']\n",
    "# print(X)"
   ]
  },
  {
   "cell_type": "markdown",
   "metadata": {},
   "source": [
    "# Learning\n",
    "\n",
    "We will be testing Logistic Regression, Decision Tree, K-Nearest Neighbors, Linear Discriminant Analysis, Gaussian Naive Bayes, and Support Vector Machine methods. To do so we import the following models / classifiers."
   ]
  },
  {
   "cell_type": "code",
   "execution_count": 16,
   "metadata": {},
   "outputs": [],
   "source": [
    "from sklearn.linear_model import LogisticRegression\n",
    "from sklearn.tree import DecisionTreeClassifier\n",
    "from sklearn.neighbors import KNeighborsClassifier\n",
    "from sklearn.discriminant_analysis import LinearDiscriminantAnalysis\n",
    "from sklearn.naive_bayes import GaussianNB\n",
    "from sklearn.svm import SVC"
   ]
  },
  {
   "cell_type": "markdown",
   "metadata": {},
   "source": [
    "## Split Learning and Testing"
   ]
  },
  {
   "cell_type": "code",
   "execution_count": 17,
   "metadata": {},
   "outputs": [],
   "source": [
    "from sklearn.model_selection import train_test_split\n",
    "from sklearn.preprocessing import MinMaxScaler"
   ]
  },
  {
   "cell_type": "markdown",
   "metadata": {},
   "source": [
    "Here we split our data into subsets to train on as well as to test on various algorithms. Read more about `train_test_split` here: https://www.bitdegree.org/learn/train-test-split"
   ]
  },
  {
   "cell_type": "code",
   "execution_count": 18,
   "metadata": {},
   "outputs": [],
   "source": [
    "X_train, X_test, y_train, y_test = train_test_split(X, y, random_state=0)"
   ]
  },
  {
   "cell_type": "markdown",
   "metadata": {},
   "source": [
    "And then we clean the data with MinMax scaler to avoid any possible convergence errors. Read more about scaling here: https://towardsdatascience.com/preprocessing-with-sklearn-a-complete-and-comprehensive-guide-670cb98fcfb9"
   ]
  },
  {
   "cell_type": "code",
   "execution_count": 19,
   "metadata": {},
   "outputs": [],
   "source": [
    "scaler = MinMaxScaler()\n",
    "X_train = scaler.fit_transform(X_train)\n",
    "X_test = scaler.transform(X_test)"
   ]
  },
  {
   "cell_type": "markdown",
   "metadata": {},
   "source": [
    "### Logistic Regression"
   ]
  },
  {
   "cell_type": "code",
   "execution_count": 20,
   "metadata": {
    "scrolled": true
   },
   "outputs": [
    {
     "name": "stdout",
     "output_type": "stream",
     "text": [
      "Accuracy of Logistic regression classifier on training set: 0.459\n",
      "Accuracy of Logistic regression classifier on test set: 0.154\n"
     ]
    }
   ],
   "source": [
    "logreg = LogisticRegression()\n",
    "logreg.fit(X_train, y_train)\n",
    "print('Accuracy of Logistic regression classifier on training set: {:.3f}'\n",
    "     .format(logreg.score(X_train, y_train)))\n",
    "print('Accuracy of Logistic regression classifier on test set: {:.3f}'\n",
    "     .format(logreg.score(X_test, y_test)))"
   ]
  },
  {
   "cell_type": "markdown",
   "metadata": {},
   "source": [
    "### Decision Tree Classifier"
   ]
  },
  {
   "cell_type": "code",
   "execution_count": 23,
   "metadata": {},
   "outputs": [
    {
     "name": "stdout",
     "output_type": "stream",
     "text": [
      "Accuracy of Decision Tree classifier on training set: 1.000\n",
      "Accuracy of Decision Tree classifier on test set: 0.154\n"
     ]
    }
   ],
   "source": [
    "clf = DecisionTreeClassifier().fit(X_train, y_train)\n",
    "print('Accuracy of Decision Tree classifier on training set: {:.3f}'\n",
    "     .format(clf.score(X_train, y_train)))\n",
    "print('Accuracy of Decision Tree classifier on test set: {:.3f}'\n",
    "     .format(clf.score(X_test, y_test)))\n"
   ]
  },
  {
   "cell_type": "markdown",
   "metadata": {},
   "source": [
    "### K-Nearest Neighbors"
   ]
  },
  {
   "cell_type": "code",
   "execution_count": 24,
   "metadata": {},
   "outputs": [
    {
     "name": "stdout",
     "output_type": "stream",
     "text": [
      "Accuracy of K-NN classifier on training set: 0.514\n",
      "Accuracy of K-NN classifier on test set: 0.077\n"
     ]
    }
   ],
   "source": [
    "knn = KNeighborsClassifier()\n",
    "knn.fit(X_train, y_train)\n",
    "print('Accuracy of K-NN classifier on training set: {:.3f}'\n",
    "     .format(knn.score(X_train, y_train)))\n",
    "print('Accuracy of K-NN classifier on test set: {:.3f}'\n",
    "     .format(knn.score(X_test, y_test)))"
   ]
  },
  {
   "cell_type": "markdown",
   "metadata": {},
   "source": [
    "### Linear Discriminant Analysis"
   ]
  },
  {
   "cell_type": "code",
   "execution_count": 25,
   "metadata": {},
   "outputs": [
    {
     "name": "stdout",
     "output_type": "stream",
     "text": [
      "Accuracy of LDA classifier on training set: 0.703\n",
      "Accuracy of LDA classifier on test set: 0.308\n"
     ]
    }
   ],
   "source": [
    "lda = LinearDiscriminantAnalysis()\n",
    "lda.fit(X_train, y_train)\n",
    "print('Accuracy of LDA classifier on training set: {:.3f}'\n",
    "     .format(lda.score(X_train, y_train)))\n",
    "print('Accuracy of LDA classifier on test set: {:.3f}'\n",
    "     .format(lda.score(X_test, y_test)))"
   ]
  },
  {
   "cell_type": "markdown",
   "metadata": {},
   "source": [
    "### Gaussian Naive Bayes"
   ]
  },
  {
   "cell_type": "code",
   "execution_count": 26,
   "metadata": {},
   "outputs": [
    {
     "name": "stdout",
     "output_type": "stream",
     "text": [
      "Accuracy of GNB classifier on training set: 0.919\n",
      "Accuracy of GNB classifier on test set: 0.154\n"
     ]
    }
   ],
   "source": [
    "gnb = GaussianNB()\n",
    "gnb.fit(X_train, y_train)\n",
    "print('Accuracy of GNB classifier on training set: {:.3f}'\n",
    "     .format(gnb.score(X_train, y_train)))\n",
    "print('Accuracy of GNB classifier on test set: {:.3f}'\n",
    "     .format(gnb.score(X_test, y_test)))"
   ]
  },
  {
   "cell_type": "markdown",
   "metadata": {},
   "source": [
    "### Support Vector Machine"
   ]
  },
  {
   "cell_type": "code",
   "execution_count": 27,
   "metadata": {},
   "outputs": [
    {
     "name": "stdout",
     "output_type": "stream",
     "text": [
      "Accuracy of SVM classifier on training set: 0.514\n",
      "Accuracy of SVM classifier on test set: 0.154\n"
     ]
    }
   ],
   "source": [
    "svm = SVC()\n",
    "svm.fit(X_train, y_train)\n",
    "print('Accuracy of SVM classifier on training set: {:.3f}'\n",
    "     .format(svm.score(X_train, y_train)))\n",
    "print('Accuracy of SVM classifier on test set: {:.3f}'\n",
    "     .format(svm.score(X_test, y_test)))"
   ]
  },
  {
   "cell_type": "markdown",
   "metadata": {},
   "source": [
    "## Manual Learning / Testing \n",
    "Mess around with some tests of our model following https://machinelearningmastery.com/make-predictions-scikit-learn/"
   ]
  },
  {
   "cell_type": "markdown",
   "metadata": {},
   "source": [
    "### Preparing Data\n",
    "First we'll use a standard scaler to clean our data for training. I'll import the other scalers to choose from later. Again, refer to the following link for more info about scalers: https://towardsdatascience.com/preprocessing-with-sklearn-a-complete-and-comprehensive-guide-670cb98fcfb9"
   ]
  },
  {
   "cell_type": "code",
   "execution_count": 28,
   "metadata": {},
   "outputs": [],
   "source": [
    "from sklearn.preprocessing import StandardScaler\n",
    "from sklearn.preprocessing import MinMaxScaler\n",
    "from sklearn.preprocessing import MaxAbsScaler\n",
    "from sklearn.preprocessing import RobustScaler\n",
    "\n",
    "scaler = StandardScaler()\n",
    "# scaler = MinMaxScaler()\n",
    "# scaler = MaxAbsScaler()\n",
    "# scaler = RobustScaler()\n",
    "\n",
    "X_scaled = scaler.fit_transform(X)\n",
    "y_scaled = y"
   ]
  },
  {
   "cell_type": "markdown",
   "metadata": {},
   "source": [
    "Then, just like before, we'll create the actual models."
   ]
  },
  {
   "cell_type": "code",
   "execution_count": 29,
   "metadata": {},
   "outputs": [],
   "source": [
    "logreg = LogisticRegression().fit(X_scaled,y_scaled)\n",
    "clf = DecisionTreeClassifier().fit(X_scaled, y_scaled)\n",
    "knn = KNeighborsClassifier().fit(X_scaled, y_scaled)\n",
    "lda = LinearDiscriminantAnalysis().fit(X_scaled, y_scaled)\n",
    "gnb = GaussianNB().fit(X_scaled, y_scaled)\n",
    "svm = SVC().fit(X_scaled, y_scaled)"
   ]
  },
  {
   "cell_type": "markdown",
   "metadata": {},
   "source": [
    "### Testing on itself\n",
    "Let's pick a song and see if the models predict it correctly."
   ]
  },
  {
   "cell_type": "code",
   "execution_count": 30,
   "metadata": {},
   "outputs": [
    {
     "name": "stdout",
     "output_type": "stream",
     "text": [
      "Song name: Ransom\n",
      "id                          7\n",
      "Artist.Name         Lil Tecca\n",
      "Genre                     rap\n",
      "Beats.Per.Minute          180\n",
      "Energy                     64\n",
      "Danceability               75\n",
      "Loudness..dB..             -6\n",
      "Liveness                    7\n",
      "Valence.                   23\n",
      "Length.                   131\n",
      "Acousticness..              2\n",
      "Speechiness.               29\n",
      "Popularity                 92\n",
      "Name: Ransom, dtype: object\n"
     ]
    }
   ],
   "source": [
    "trackname = input(\"Song name: \")\n",
    "row = songs.loc[trackname]\n",
    "X_trial = [list(row[start:])]\n",
    "y_actual = row[2]\n",
    "print(row)"
   ]
  },
  {
   "cell_type": "code",
   "execution_count": 31,
   "metadata": {},
   "outputs": [],
   "source": [
    "log_guess = logreg.predict(X_trial)\n",
    "clf_guess = clf.predict(X_trial)\n",
    "knn_guess = knn.predict(X_trial)\n",
    "lda_guess = lda.predict(X_trial)\n",
    "gnb_guess = gnb.predict(X_trial)\n",
    "svm_guess = svm.predict(X_trial)"
   ]
  },
  {
   "cell_type": "code",
   "execution_count": 32,
   "metadata": {},
   "outputs": [
    {
     "name": "stdout",
     "output_type": "stream",
     "text": [
      "The genre of Ransom actually is rap\n",
      "Logarithmic Regression thought it was latin\n",
      "Decision Tree Classifier thought it was dance pop\n",
      "K-Nearest Neighbors thought it was foreign pop\n",
      "Linear Discriminant Analysis thought it was reggaeton\n",
      "Gaussian Naive Bayes thought it was reggaeton\n",
      "Support Vector Machine thought it was pop\n"
     ]
    }
   ],
   "source": [
    "print(\"The genre of \" + trackname + \" actually is \" + y_actual)\n",
    "print(\"Logarithmic Regression thought it was \" + log_guess[0])\n",
    "print(\"Decision Tree Classifier thought it was \" + clf_guess[0])\n",
    "print(\"K-Nearest Neighbors thought it was \" + knn_guess[0])\n",
    "print(\"Linear Discriminant Analysis thought it was \" + lda_guess[0])\n",
    "print(\"Gaussian Naive Bayes thought it was \" + gnb_guess[0])\n",
    "print(\"Support Vector Machine thought it was \" + svm_guess[0])"
   ]
  },
  {
   "cell_type": "markdown",
   "metadata": {},
   "source": [
    "### Testing on user input\n",
    "Let's see how these do on user input. Ranges can be existing max/mins + a standard deviation, default values be average"
   ]
  },
  {
   "cell_type": "code",
   "execution_count": 33,
   "metadata": {},
   "outputs": [
    {
     "data": {
      "text/plain": [
       "['Beats.Per.Minute average is: 120.06',\n",
       " 'Energy average is: 64.06',\n",
       " 'Danceability average is: 71.38',\n",
       " 'Loudness..dB.. average is: -5.66',\n",
       " 'Liveness average is: 14.66',\n",
       " 'Valence. average is: 54.6',\n",
       " 'Length. average is: 200.96',\n",
       " 'Acousticness.. average is: 22.16',\n",
       " 'Speechiness. average is: 12.48',\n",
       " 'Popularity average is: 87.5']"
      ]
     },
     "execution_count": 33,
     "metadata": {},
     "output_type": "execute_result"
    }
   ],
   "source": [
    "def averagePrint(key):\n",
    "    return key + \" average is: \" + str(songs[key].mean())\n",
    "\n",
    "def average(key):\n",
    "    return songs[key].mean()\n",
    "\n",
    "averages = list(map(average, inputs))\n",
    "\n",
    "# Just to look nice\n",
    "list(map(averagePrint, inputs))"
   ]
  },
  {
   "cell_type": "code",
   "execution_count": null,
   "metadata": {},
   "outputs": [
    {
     "name": "stdout",
     "output_type": "stream",
     "text": [
      "Enter BPM: 100\n",
      "Enter Energy: 70\n",
      "Enter Danceability: -3\n",
      "Enter Loudness/dB: 15\n",
      "Enter Liveness: 22\n",
      "Enter Valence: 111\n"
     ]
    }
   ],
   "source": [
    "bpm = input(\"Enter BPM: \")\n",
    "energy = input(\"Enter Energy: \")\n",
    "danceable = input(\"Enter Danceability: \")\n",
    "loudness = input(\"Enter Loudness/dB: \")\n",
    "liveness = input(\"Enter Liveness: \")\n",
    "valence = input(\"Enter Valence: \")\n",
    "length = input(\"Enter Length: \")\n",
    "acoustic = input(\"Enter Acousticness: \")\n",
    "speech = input(\"Enter Speechiness: \")\n",
    "pop = input(\"Enter Populartiy: \")"
   ]
  },
  {
   "cell_type": "code",
   "execution_count": 136,
   "metadata": {},
   "outputs": [],
   "source": [
    "def floatCast (num):\n",
    "    return float(num)\n",
    "\n",
    "X_user = [list(map(floatCast, [bpm, energy, danceable, loudness, liveness, valence, length, acoustic, speech, pop]))]"
   ]
  },
  {
   "cell_type": "code",
   "execution_count": 137,
   "metadata": {},
   "outputs": [],
   "source": [
    "log_guess = logreg.predict(X_user)\n",
    "clf_guess = clf.predict(X_user)\n",
    "knn_guess = knn.predict(X_user)\n",
    "lda_guess = lda.predict(X_user)\n",
    "gnb_guess = gnb.predict(X_user)\n",
    "svm_guess = svm.predict(X_user)"
   ]
  },
  {
   "cell_type": "code",
   "execution_count": 139,
   "metadata": {},
   "outputs": [
    {
     "name": "stdout",
     "output_type": "stream",
     "text": [
      "For the user inputted values...\n",
      "Logarithmic Regression thought it was reggaeton\n",
      "Decision Tree Classifier thought it was dance pop\n",
      "K-Nearest Neighbors thought it was reggaeton\n",
      "Linear Discriminant Analysis thought it was reggaeton\n",
      "Gaussian Naive Bayes thought it was reggaeton\n",
      "Support Vector Machine thought it was pop\n"
     ]
    }
   ],
   "source": [
    "print(\"For the user inputted values...\")\n",
    "print(\"Logarithmic Regression thought it was \" + log_guess[0])\n",
    "print(\"Decision Tree Classifier thought it was \" + clf_guess[0])\n",
    "print(\"K-Nearest Neighbors thought it was \" + knn_guess[0])\n",
    "print(\"Linear Discriminant Analysis thought it was \" + lda_guess[0])\n",
    "print(\"Gaussian Naive Bayes thought it was \" + gnb_guess[0])\n",
    "print(\"Support Vector Machine thought it was \" + svm_guess[0])"
   ]
  },
  {
   "cell_type": "code",
   "execution_count": null,
   "metadata": {},
   "outputs": [],
   "source": []
  }
 ],
 "metadata": {
  "kernelspec": {
   "display_name": "Python 3",
   "language": "python",
   "name": "python3"
  },
  "language_info": {
   "codemirror_mode": {
    "name": "ipython",
    "version": 3
   },
   "file_extension": ".py",
   "mimetype": "text/x-python",
   "name": "python",
   "nbconvert_exporter": "python",
   "pygments_lexer": "ipython3",
   "version": "3.7.6"
  }
 },
 "nbformat": 4,
 "nbformat_minor": 2
}
